{
 "cells": [
  {
   "cell_type": "markdown",
   "metadata": {},
   "source": [
    "# **pandas** Basics"
   ]
  },
  {
   "cell_type": "markdown",
   "metadata": {},
   "source": [
    "1. Given is the dictionary object"
   ]
  },
  {
   "cell_type": "code",
   "execution_count": 1,
   "metadata": {},
   "outputs": [],
   "source": [
    "wpa = {'North America':{'med_wpa':65022,'mean_wpa':391690,'adult_000':271933},\n",
    "       'Europe':{'med_wpa':18153,'mean_wpa':144903,'adult_000':589373},\n",
    "       'China':{'med_wpa':16333,'mean_wpa':47810,'adult_000':1085003},\n",
    "       'Latin America':{'med_wpa':4372,'mean_wpa':18605,'adult_000':432919},\n",
    "       'India':{'med_wpa':1289,'mean_wpa':7024,'adult_000':850210}\n",
    "      }"
   ]
  },
  {
   "cell_type": "code",
   "execution_count": 2,
   "metadata": {},
   "outputs": [
    {
     "data": {
      "text/plain": [
       "{'North America': {'med_wpa': 65022, 'mean_wpa': 391690, 'adult_000': 271933},\n",
       " 'Europe': {'med_wpa': 18153, 'mean_wpa': 144903, 'adult_000': 589373},\n",
       " 'China': {'med_wpa': 16333, 'mean_wpa': 47810, 'adult_000': 1085003},\n",
       " 'Latin America': {'med_wpa': 4372, 'mean_wpa': 18605, 'adult_000': 432919},\n",
       " 'India': {'med_wpa': 1289, 'mean_wpa': 7024, 'adult_000': 850210}}"
      ]
     },
     "execution_count": 2,
     "metadata": {},
     "output_type": "execute_result"
    }
   ],
   "source": [
    "wpa"
   ]
  },
  {
   "cell_type": "markdown",
   "metadata": {},
   "source": [
    "Create a **pandas** data frame object *wpa_df* from the above given dictionary object. Also display the view of the data frame"
   ]
  },
  {
   "cell_type": "code",
   "execution_count": null,
   "metadata": {},
   "outputs": [],
   "source": []
  },
  {
   "cell_type": "markdown",
   "metadata": {},
   "source": [
    "2. Import the file *Cars93.csv* from the folder datasets into pandas data frame object  \n",
    "a. store it in the object **cars_df** "
   ]
  },
  {
   "cell_type": "code",
   "execution_count": null,
   "metadata": {},
   "outputs": [],
   "source": []
  },
  {
   "cell_type": "markdown",
   "metadata": {},
   "source": [
    "    b. display the meta data of the object **cars_df**"
   ]
  },
  {
   "cell_type": "code",
   "execution_count": null,
   "metadata": {},
   "outputs": [],
   "source": []
  },
  {
   "cell_type": "markdown",
   "metadata": {},
   "source": [
    "3. From the object created above **cars_df** extract the records of cars with Manufacturer 'Chevrolet' and store them in the object **Chev_df**"
   ]
  },
  {
   "cell_type": "code",
   "execution_count": null,
   "metadata": {},
   "outputs": [],
   "source": []
  },
  {
   "cell_type": "markdown",
   "metadata": {},
   "source": [
    "4. From the object created above **cars_df** extract the records of cars with Price > 20 and having Driver & Passenger side air bags and store them in the object **Exp_Air_Bag**"
   ]
  },
  {
   "cell_type": "code",
   "execution_count": null,
   "metadata": {},
   "outputs": [],
   "source": []
  },
  {
   "cell_type": "markdown",
   "metadata": {},
   "source": [
    "5. From the object created above **cars_df** , select only the columns 'Model','Price','AirBags' and 'Origin' and store them in the object **ss_cars**."
   ]
  },
  {
   "cell_type": "code",
   "execution_count": null,
   "metadata": {},
   "outputs": [],
   "source": []
  }
 ],
 "metadata": {
  "kernelspec": {
   "display_name": "Python 3",
   "language": "python",
   "name": "python3"
  },
  "language_info": {
   "codemirror_mode": {
    "name": "ipython",
    "version": 3
   },
   "file_extension": ".py",
   "mimetype": "text/x-python",
   "name": "python",
   "nbconvert_exporter": "python",
   "pygments_lexer": "ipython3",
   "version": "3.7.0"
  }
 },
 "nbformat": 4,
 "nbformat_minor": 2
}
